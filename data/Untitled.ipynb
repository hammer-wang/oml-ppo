{
 "cells": [
  {
   "cell_type": "code",
   "execution_count": 15,
   "metadata": {},
   "outputs": [],
   "source": [
    "import pandas as pd\n",
    "import numpy as np"
   ]
  },
  {
   "cell_type": "code",
   "execution_count": 27,
   "metadata": {},
   "outputs": [],
   "source": [
    "def convert_txt(source, target, delim='\\t'):\n",
    "    df = pd.read_csv(source, names=['wl', 'n', 'k'], header=None, sep=delim)\n",
    "    \n",
    "    print(df)\n",
    "    \n",
    "    if df['wl'].iloc[0] > 1:\n",
    "        df['wl'] = df['wl'] / 1e3\n",
    "        \n",
    "    df.to_csv(target, index=None)"
   ]
  },
  {
   "cell_type": "code",
   "execution_count": 3,
   "metadata": {},
   "outputs": [],
   "source": [
    "convert_txt('./piano_black/ZnO-Lab18-01-1000s-34nm.txt', 'ZnO.csv')"
   ]
  },
  {
   "cell_type": "code",
   "execution_count": 4,
   "metadata": {},
   "outputs": [],
   "source": [
    "convert_txt('./piano_black/Ti-AE-target 15nm.txt', 'Ti.csv')"
   ]
  },
  {
   "cell_type": "code",
   "execution_count": 5,
   "metadata": {},
   "outputs": [],
   "source": [
    "convert_txt('./piano_black/SiO2-AE-Target 500nm-5A_s-CGJi-20171021.txt', 'SiO2.csv')"
   ]
  },
  {
   "cell_type": "code",
   "execution_count": 6,
   "metadata": {},
   "outputs": [],
   "source": [
    "convert_txt('./piano_black/Ni-Kyutae.txt', 'Ni.csv')"
   ]
  },
  {
   "cell_type": "code",
   "execution_count": 7,
   "metadata": {},
   "outputs": [],
   "source": [
    "convert_txt('./piano_black/Al2O3 AE target 50nm real 72nm.txt', 'Al2O3.csv')"
   ]
  },
  {
   "cell_type": "code",
   "execution_count": 9,
   "metadata": {},
   "outputs": [],
   "source": [
    "convert_txt('./piano_black/Fe2O3-Si-CdS-model.txt', 'Fe2O3.csv')"
   ]
  },
  {
   "cell_type": "code",
   "execution_count": 8,
   "metadata": {},
   "outputs": [
    {
     "ename": "TypeError",
     "evalue": "'>' not supported between instances of 'str' and 'int'",
     "output_type": "error",
     "traceback": [
      "\u001b[0;31m---------------------------------------------------------------------------\u001b[0m",
      "\u001b[0;31mTypeError\u001b[0m                                 Traceback (most recent call last)",
      "\u001b[0;32m<ipython-input-8-f433d6286ef7>\u001b[0m in \u001b[0;36m<module>\u001b[0;34m\u001b[0m\n\u001b[0;32m----> 1\u001b[0;31m \u001b[0mconvert_txt\u001b[0m\u001b[0;34m(\u001b[0m\u001b[0;34m'./piano_black/HfO2-online.txt'\u001b[0m\u001b[0;34m,\u001b[0m \u001b[0;34m'HfO2.csv.csv'\u001b[0m\u001b[0;34m)\u001b[0m\u001b[0;34m\u001b[0m\u001b[0;34m\u001b[0m\u001b[0m\n\u001b[0m",
      "\u001b[0;32m<ipython-input-2-330aa6794481>\u001b[0m in \u001b[0;36mconvert_txt\u001b[0;34m(source, target)\u001b[0m\n\u001b[1;32m      2\u001b[0m     \u001b[0mdf\u001b[0m \u001b[0;34m=\u001b[0m \u001b[0mpd\u001b[0m\u001b[0;34m.\u001b[0m\u001b[0mread_csv\u001b[0m\u001b[0;34m(\u001b[0m\u001b[0msource\u001b[0m\u001b[0;34m,\u001b[0m \u001b[0mnames\u001b[0m\u001b[0;34m=\u001b[0m\u001b[0;34m[\u001b[0m\u001b[0;34m'wl'\u001b[0m\u001b[0;34m,\u001b[0m \u001b[0;34m'n'\u001b[0m\u001b[0;34m,\u001b[0m \u001b[0;34m'k'\u001b[0m\u001b[0;34m]\u001b[0m\u001b[0;34m,\u001b[0m \u001b[0mheader\u001b[0m\u001b[0;34m=\u001b[0m\u001b[0;32mNone\u001b[0m\u001b[0;34m,\u001b[0m \u001b[0msep\u001b[0m\u001b[0;34m=\u001b[0m\u001b[0;34m'\\t'\u001b[0m\u001b[0;34m)\u001b[0m\u001b[0;34m\u001b[0m\u001b[0;34m\u001b[0m\u001b[0m\n\u001b[1;32m      3\u001b[0m \u001b[0;34m\u001b[0m\u001b[0m\n\u001b[0;32m----> 4\u001b[0;31m     \u001b[0;32mif\u001b[0m \u001b[0mdf\u001b[0m\u001b[0;34m[\u001b[0m\u001b[0;34m'wl'\u001b[0m\u001b[0;34m]\u001b[0m\u001b[0;34m.\u001b[0m\u001b[0miloc\u001b[0m\u001b[0;34m[\u001b[0m\u001b[0;36m0\u001b[0m\u001b[0;34m]\u001b[0m \u001b[0;34m>\u001b[0m \u001b[0;36m1\u001b[0m\u001b[0;34m:\u001b[0m\u001b[0;34m\u001b[0m\u001b[0;34m\u001b[0m\u001b[0m\n\u001b[0m\u001b[1;32m      5\u001b[0m         \u001b[0mdf\u001b[0m\u001b[0;34m[\u001b[0m\u001b[0;34m'wl'\u001b[0m\u001b[0;34m]\u001b[0m \u001b[0;34m=\u001b[0m \u001b[0mdf\u001b[0m\u001b[0;34m[\u001b[0m\u001b[0;34m'wl'\u001b[0m\u001b[0;34m]\u001b[0m \u001b[0;34m/\u001b[0m \u001b[0;36m1e3\u001b[0m\u001b[0;34m\u001b[0m\u001b[0;34m\u001b[0m\u001b[0m\n\u001b[1;32m      6\u001b[0m \u001b[0;34m\u001b[0m\u001b[0m\n",
      "\u001b[0;31mTypeError\u001b[0m: '>' not supported between instances of 'str' and 'int'"
     ]
    }
   ],
   "source": [
    "convert_txt('./piano_black/HfO2-online.txt', 'HfO2.csv.csv')"
   ]
  },
  {
   "cell_type": "code",
   "execution_count": 10,
   "metadata": {},
   "outputs": [],
   "source": [
    "convert_txt('./piano_black/Si3N4-Plasmatherm-UV+Visible.txt', 'Si3N4.csv')"
   ]
  },
  {
   "cell_type": "code",
   "execution_count": 11,
   "metadata": {},
   "outputs": [],
   "source": [
    "convert_txt('./piano_black/TiN Lab18-1 10to2 noheating postAnneal.txt', 'TiN.csv')"
   ]
  },
  {
   "cell_type": "code",
   "execution_count": 12,
   "metadata": {},
   "outputs": [],
   "source": [
    "convert_txt('./piano_black/ZnS-SJ20-Si sub-target 30nm real 19nm.txt', 'ZnS.csv')"
   ]
  },
  {
   "cell_type": "code",
   "execution_count": 13,
   "metadata": {},
   "outputs": [],
   "source": [
    "convert_txt('./piano_black/ZnSe-30nm-SiOx_Si sub.txt', 'ZnSe.csv')"
   ]
  },
  {
   "cell_type": "code",
   "execution_count": 29,
   "metadata": {},
   "outputs": [],
   "source": [
    "# 'Ag', 'Al', 'Al2O3', 'Cr', 'Fe2O3', 'Ge', 'HfO2', 'MgF2', 'Ni', 'Si', 'Si3N4', 'SiO2', 'Ti', 'TiN', 'TiO2', 'ZnO', 'ZnS', 'ZnSe'"
   ]
  },
  {
   "cell_type": "code",
   "execution_count": 30,
   "metadata": {},
   "outputs": [],
   "source": [
    "# # glass\n",
    "# glass = np.array([[100, 1.45, 0], [10000, 1.45, 0]])\n",
    "# np.savetxt('Glass.csv', glass, delimiter=',')\n",
    "# convert_txt('Glass.csv', 'Glass.csv', delim=',')"
   ]
  },
  {
   "cell_type": "code",
   "execution_count": 31,
   "metadata": {},
   "outputs": [
    {
     "name": "stdout",
     "output_type": "stream",
     "text": [
      "              wl         n         k\n",
      "0     192.414993  1.036453  2.300367\n",
      "1     194.001999  1.054510  2.334635\n",
      "2     195.589081  1.059189  2.332438\n",
      "3     197.176178  1.007977  2.340159\n",
      "4     198.763351  0.947681  2.416913\n",
      "..           ...       ...       ...\n",
      "701  1669.016968  3.408067  0.000000\n",
      "702  1672.516846  3.407711  0.000000\n",
      "703  1676.017212  3.407356  0.000000\n",
      "704  1679.518188  3.407003  0.000000\n",
      "705  1683.019897  3.406651  0.000000\n",
      "\n",
      "[706 rows x 3 columns]\n"
     ]
    }
   ],
   "source": [
    "convert_txt('./piano_black/aSi-Plasmatherm-25w-extended.txt', 'PECVD-Si.csv')"
   ]
  },
  {
   "cell_type": "code",
   "execution_count": 32,
   "metadata": {},
   "outputs": [
    {
     "name": "stdout",
     "output_type": "stream",
     "text": [
      "              wl         n         k\n",
      "0     192.414993  1.377209  1.142791\n",
      "1     194.001999  1.388475  1.149024\n",
      "2     195.589081  1.399826  1.155158\n",
      "3     197.176178  1.411265  1.161192\n",
      "4     198.763351  1.422792  1.167125\n",
      "..           ...       ...       ...\n",
      "702  1672.516846  2.168862  0.000000\n",
      "703  1676.017212  2.168749  0.000000\n",
      "704  1679.518188  2.168636  0.000000\n",
      "705  1683.019897  2.168525  0.000000\n",
      "706  1686.522461  2.168414  0.000000\n",
      "\n",
      "[707 rows x 3 columns]\n"
     ]
    }
   ],
   "source": [
    "convert_txt('./piano_black/Si 1 DC-updoped silicon-aSi parameterized-300s-200w-sputtering.txt', 'Sputter-Si.csv')"
   ]
  }
 ],
 "metadata": {
  "kernelspec": {
   "display_name": "Python 3.7.4 64-bit ('spinup_multilayer': conda)",
   "language": "python",
   "name": "python37464bitspinupmultilayerconda6c26b487c6d64280a8c9728be574eaac"
  },
  "language_info": {
   "codemirror_mode": {
    "name": "ipython",
    "version": 3
   },
   "file_extension": ".py",
   "mimetype": "text/x-python",
   "name": "python",
   "nbconvert_exporter": "python",
   "pygments_lexer": "ipython3",
   "version": "3.7.4"
  }
 },
 "nbformat": 4,
 "nbformat_minor": 4
}
